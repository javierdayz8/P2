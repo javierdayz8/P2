{
 "cells": [
  {
   "cell_type": "markdown",
   "metadata": {},
   "source": [
    "<img style=\"float: right; margin: 0px 0px 15px 15px;\" src=\"https://proactivo.com.pe/wp-content/uploads/2019/05/Inversi%C3%B3n-en-tecnolog%C3%ADa-minera.png\" width=\"600px\" height=\"100px\" />\n",
    "\n",
    "\n",
    "# PROYECTO II.\n",
    "## LOCALIZACIÓN DE MINAS EN UN TERRENO.\n",
    "### MÉTODO DE MONTECARLO.\n",
    "\n",
    " + FRANCISCO JAVIER DIAZ ESQUIVEL IC727603\n",
    " + ERIK DANIEL COTA VILLA IC727872"
   ]
  },
  {
   "cell_type": "markdown",
   "metadata": {},
   "source": [
    "## OBJETIVO \n",
    "\n",
    "### OBJETIVO GENERAL: \n",
    "Realizar simulaciones de sondeos con integración Montecarlo para poder ubicar y delimitar las concentraciones anómalas en un yacimiento de minerales útiles. \n",
    "\n",
    "### OBJETIVOS ESPECÍFICOS: \n",
    "\n",
    "* Propondremos un modelo que pueda ser repetitivo, concreto, evaluable y que se pueda verificar su utilidad.\n",
    "\n",
    "* Utilizaremos la integración Montecarlo para la resolución de la problemática. \n",
    "\n",
    "* Interpretaremos la información obtenida con la herramienta empleada\n",
    "\n",
    "* Motivaremos el método con un caso conocido."
   ]
  },
  {
   "cell_type": "markdown",
   "metadata": {},
   "source": [
    "### Modelo que representa el problema.\n",
    "\n",
    "Durante los procesos geológicos que llevan a la formación de una roca, algunos minerales pueden concentrarse selectivamente por encima de sus valores “normales” dando origen a concentraciones “anómalas”. Dándose ciertas condiciones necesarias que permitan que esta concentración se convierta en un depósito de minerales útiles, pueden convertirse en zonas de explotación económicamente rentable. \n",
    "\n",
    "\n",
    "Una empresa dedicada a la minería, adquirió un terreno con concentraciones anómalas de minerales valiosos, no obstante, no se conoce la ubicación exacta de dichos minerales. Por esto, dicha empresa desarrollo un programa basado en el método de Montecarlo, proporcionando ubicaciones aproximadas y delimitaciones de los yacimientos por medio de una ecuación. \n",
    "\n"
   ]
  },
  {
   "cell_type": "markdown",
   "metadata": {},
   "source": [
    "El terreno cuenta con una extensión de $1464 m^2$, y tiene una forma irregular como se puede observar:"
   ]
  },
  {
   "cell_type": "markdown",
   "metadata": {},
   "source": [
    "<img style=\"float: center; margin: 0px 0px 15px 15px;\" src=\"https://is2.4chan.org/n/1605070798525.png\" width=\"600px\" height=\"1000px\" >\n"
   ]
  },
  {
   "cell_type": "markdown",
   "metadata": {},
   "source": [
    "**El sensor desarrollado solo permite investigar superficies rectagulares.** \n",
    "\n",
    "Por lo que:\n",
    "\n",
    "* Primero **seccionamos** el terreno rectangularmente en tres partes (1,2,3) para poder utilizar el sensor.\n",
    "\n",
    "<img style=\"float: center; margin: 0px 0px 15px 15px;\" src=\"https://i.4cdn.org/n/1605071198577.png\" width=\"600px\" height=\"1000px\" >\n",
    "\n",
    "* Posteriormente definimos la función utilizanda en el **Método de Montecarlo** , donde se le asignaron valores a las variables utilizadas:\n",
    "\n",
    "\n",
    "1. $B$: Base del rectángulo. \n",
    "1. $H$: Altura del rectángulo. \n",
    "1. $AR$: Área del rectángulo. \n",
    "1. $x$: Coordenadas en x. \n",
    "1. $y$: Coordenadas en y.\n",
    "1. $b$: Función Bernoulli.\n",
    "1. $th$ y $erel$: Variables númericas.\n",
    "\n",
    "\n"
   ]
  },
  {
   "cell_type": "code",
   "execution_count": 3,
   "metadata": {},
   "outputs": [],
   "source": [
    "# Importamos líbrerias \n",
    "import numpy as np\n",
    "import matplotlib.pyplot as plt\n",
    "import pandas as pd\n",
    "%matplotlib inline"
   ]
  },
  {
   "cell_type": "code",
   "execution_count": 4,
   "metadata": {},
   "outputs": [],
   "source": [
    "# Definimos la funcion montecarlo\n",
    "def montecarlo(xmin,xmax,ymin,ymax,N,fBernoulli):\n",
    "    base=xmax-xmin\n",
    "    altura=ymax-xmin\n",
    "    AR=base*altura\n",
    "    x=np.random.uniform(xmin,xmax,N)\n",
    "    y=np.random.uniform(ymin,ymax,N)\n",
    "    b=fBernoulli(x,y)\n",
    "    th=np.mean(b)\n",
    "    erel=np.sqrt((1-th)/th)/np.sqrt(N)\n",
    "    return AR*th,erel"
   ]
  },
  {
   "cell_type": "markdown",
   "metadata": {},
   "source": [
    "* Definimos también las minas con sus respectivas ecuaciones obtenidas en la prueba geológica; (con variables x y):\n",
    "\n",
    "\n",
    "1. mina1 : $3(2x -1)4+8(5y-1)8<1+2(6y-1)3(5x-2)2$              \n",
    "1. mina2 : $4(3x -1)4+8(y-1)8<1+2(3y-1)3(2x-2)2$\n",
    "1. mina3: $5x 2+3y2<600-x2$\n",
    "\n",
    "*Delimitado a el área por investigar.*\n"
   ]
  },
  {
   "cell_type": "code",
   "execution_count": 5,
   "metadata": {},
   "outputs": [],
   "source": [
    "# Definimos cada mina/yacimiento\n",
    "def mina1(x,y):\n",
    "    return 3*(2*x-1)**4+8*(5*y-1)**8<1+2*(6*y-1)**3*(5*x-2)**2\n",
    "                    \n",
    "def mina2(x,y):\n",
    "    return 4*(3*x-1)**4+8*(y-1)**8<1+2*(3*y-1)**3*(2*x-2)**2\n",
    "\n",
    "def mina3(x,y):\n",
    "    return 5*x**2+3*y**2<600-x**2"
   ]
  },
  {
   "cell_type": "markdown",
   "metadata": {},
   "source": [
    "Formulamos los parámetros de cada grafica en la que se mostrara el tamaño y delimitación del yacimiento; varia en cada caso por el tamaño de la superficie del terreno. Cabe destacar que siempre fue tomado como origen el centro del terreno a estudiar ​"
   ]
  },
  {
   "cell_type": "markdown",
   "metadata": {},
   "source": [
    "### YACIMIENTO I"
   ]
  },
  {
   "cell_type": "code",
   "execution_count": 6,
   "metadata": {},
   "outputs": [
    {
     "data": {
      "image/png": "[encoded data removed]",
      "text/plain": [
       "<Figure size 432x288 with 1 Axes>"
      ]
     },
     "metadata": {
      "needs_background": "light"
     },
     "output_type": "display_data"
    }
   ],
   "source": [
    "# Graficamos el primer yacimiento\n",
    "x=np.random.uniform(-6,6,400)\n",
    "y=np.random.uniform(-2,2,400)\n",
    "X,Y=np.meshgrid(x,y)\n",
    "plt.scatter(X,Y,c=~mina1(X,Y), cmap=\"gray\", s=.5)\n",
    "\n",
    "plt.grid()"
   ]
  },
  {
   "cell_type": "markdown",
   "metadata": {},
   "source": [
    "### YACIMIENTO II"
   ]
  },
  {
   "cell_type": "code",
   "execution_count": 8,
   "metadata": {},
   "outputs": [
    {
     "data": {
      "image/png": "[encoded data removed]",
      "text/plain": [
       "<Figure size 432x288 with 1 Axes>"
      ]
     },
     "metadata": {
      "needs_background": "light"
     },
     "output_type": "display_data"
    }
   ],
   "source": [
    "# Graficamos el segundo yacimiento\n",
    "x=np.random.uniform(-9,9,400)\n",
    "y=np.random.uniform(-6,6,400)\n",
    "X,Y=np.meshgrid(x,y)\n",
    "plt.scatter(X,Y,c=~mina2(X,Y), cmap=\"gray\", s=.5)\n",
    "\n",
    "plt.grid()"
   ]
  },
  {
   "cell_type": "markdown",
   "metadata": {},
   "source": [
    "### YACIMINETO III"
   ]
  },
  {
   "cell_type": "code",
   "execution_count": 10,
   "metadata": {},
   "outputs": [
    {
     "data": {
      "image/png": "[encoded data removed]",
      "text/plain": [
       "<Figure size 432x288 with 1 Axes>"
      ]
     },
     "metadata": {
      "needs_background": "light"
     },
     "output_type": "display_data"
    }
   ],
   "source": [
    "# Graficamos el tercer yacimiento\n",
    "x=np.random.uniform(-20,20,400)\n",
    "y=np.random.uniform(-15,15,400)\n",
    "X,Y=np.meshgrid(x,y)\n",
    "plt.scatter(X,Y,c=~mina3(X,Y), cmap=\"gray\", s=.5)\n",
    "\n",
    "plt.grid()"
   ]
  },
  {
   "cell_type": "markdown",
   "metadata": {},
   "source": [
    "Finalmente, creamos una tabla para cada uno de los yacimientos con su respectiva aproximación y error del cálculo."
   ]
  },
  {
   "cell_type": "code",
   "execution_count": 7,
   "metadata": {},
   "outputs": [
    {
     "data": {
      "text/html": [
       "<div>\n",
       "<style scoped>\n",
       "    .dataframe tbody tr th:only-of-type {\n",
       "        vertical-align: middle;\n",
       "    }\n",
       "\n",
       "    .dataframe tbody tr th {\n",
       "        vertical-align: top;\n",
       "    }\n",
       "\n",
       "    .dataframe thead th {\n",
       "        text-align: right;\n",
       "    }\n",
       "</style>\n",
       "<table border=\"1\" class=\"dataframe\">\n",
       "  <thead>\n",
       "    <tr style=\"text-align: right;\">\n",
       "      <th></th>\n",
       "      <th>Aproximacion Yacimiento 1</th>\n",
       "      <th>Error</th>\n",
       "    </tr>\n",
       "  </thead>\n",
       "  <tbody>\n",
       "    <tr>\n",
       "      <td>1000000</td>\n",
       "      <td>8.49125</td>\n",
       "      <td>0.00221098</td>\n",
       "    </tr>\n",
       "  </tbody>\n",
       "</table>\n",
       "</div>"
      ],
      "text/plain": [
       "        Aproximacion Yacimiento 1       Error\n",
       "1000000                   8.49125  0.00221098"
      ]
     },
     "execution_count": 7,
     "metadata": {},
     "output_type": "execute_result"
    }
   ],
   "source": [
    "# Obtenemos error y aprox. del primer yacimiento\n",
    "N=np.logspace(6,20,1)\n",
    "N=N.astype(int)\n",
    "tabla=pd.DataFrame(index=N, columns=[\"Aproximacion Yacimiento 1\",\"Error\"])\n",
    "for i in N:\n",
    "    tabla.loc[i,:]=montecarlo(-4,6,0,1,i,mina1)\n",
    "tabla"
   ]
  },
  {
   "cell_type": "code",
   "execution_count": 9,
   "metadata": {},
   "outputs": [
    {
     "data": {
      "text/html": [
       "<div>\n",
       "<style scoped>\n",
       "    .dataframe tbody tr th:only-of-type {\n",
       "        vertical-align: middle;\n",
       "    }\n",
       "\n",
       "    .dataframe tbody tr th {\n",
       "        vertical-align: top;\n",
       "    }\n",
       "\n",
       "    .dataframe thead th {\n",
       "        text-align: right;\n",
       "    }\n",
       "</style>\n",
       "<table border=\"1\" class=\"dataframe\">\n",
       "  <thead>\n",
       "    <tr style=\"text-align: right;\">\n",
       "      <th></th>\n",
       "      <th>Aproximacion Yacimiento 2</th>\n",
       "      <th>Error</th>\n",
       "    </tr>\n",
       "  </thead>\n",
       "  <tbody>\n",
       "    <tr>\n",
       "      <td>1000000</td>\n",
       "      <td>30.5214</td>\n",
       "      <td>0.00180535</td>\n",
       "    </tr>\n",
       "  </tbody>\n",
       "</table>\n",
       "</div>"
      ],
      "text/plain": [
       "        Aproximacion Yacimiento 2       Error\n",
       "1000000                   30.5214  0.00180535"
      ]
     },
     "execution_count": 9,
     "metadata": {},
     "output_type": "execute_result"
    }
   ],
   "source": [
    "# Obtenemos error y aprox. del segudno yacimiento\n",
    "N=np.logspace(6,20,1)\n",
    "N=N.astype(int)\n",
    "tabla=pd.DataFrame(index=N, columns=[\"Aproximacion Yacimiento 2\",\"Error\"])\n",
    "for i in N:\n",
    "    tabla.loc[i,:]=montecarlo(-7,3,0,6,i,mina2)\n",
    "tabla"
   ]
  },
  {
   "cell_type": "code",
   "execution_count": 11,
   "metadata": {},
   "outputs": [
    {
     "data": {
      "text/html": [
       "<div>\n",
       "<style scoped>\n",
       "    .dataframe tbody tr th:only-of-type {\n",
       "        vertical-align: middle;\n",
       "    }\n",
       "\n",
       "    .dataframe tbody tr th {\n",
       "        vertical-align: top;\n",
       "    }\n",
       "\n",
       "    .dataframe thead th {\n",
       "        text-align: right;\n",
       "    }\n",
       "</style>\n",
       "<table border=\"1\" class=\"dataframe\">\n",
       "  <thead>\n",
       "    <tr style=\"text-align: right;\">\n",
       "      <th></th>\n",
       "      <th>Aproximacion Yacimiento 3</th>\n",
       "      <th>Error</th>\n",
       "    </tr>\n",
       "  </thead>\n",
       "  <tbody>\n",
       "    <tr>\n",
       "      <td>1000000</td>\n",
       "      <td>370.049</td>\n",
       "      <td>0.000592598</td>\n",
       "    </tr>\n",
       "  </tbody>\n",
       "</table>\n",
       "</div>"
      ],
      "text/plain": [
       "        Aproximacion Yacimiento 3        Error\n",
       "1000000                   370.049  0.000592598"
      ]
     },
     "execution_count": 11,
     "metadata": {},
     "output_type": "execute_result"
    }
   ],
   "source": [
    "# Obtenemos error y aprox. del tercer yacimiento\n",
    "N=np.logspace(6,20,1)\n",
    "N=N.astype(int)\n",
    "tabla=pd.DataFrame(index=N, columns=[\"Aproximacion Yacimiento 3\",\"Error\"])\n",
    "for i in N:\n",
    "    tabla.loc[i,:]=montecarlo(-10,10,-15,15,i,mina3)\n",
    "tabla"
   ]
  },
  {
   "cell_type": "markdown",
   "metadata": {},
   "source": [
    "### REPRESENTACIÓN DE RESULTADOS:"
   ]
  },
  {
   "cell_type": "markdown",
   "metadata": {},
   "source": [
    "Al realizar las integraciones de Montecarlo en las zonas rectangulares, podemos obtener la representación gráfica de la ubicación y la delimitación de las concentraciones anómalas en un yacimiento natural.  En estas se pueden apreciar en donde se encuentran dichos minerales, por lo que se facilita el trabajo de la empresa encargada a explotar el yacimiento natural. Conociendo esta información la empresa podrá ahorrar tiempo y dinero en la extracción de los minerales. \n",
    "\n",
    "La elaboración de las tablas en las que se presenta el error y la aproximación de los resultados obtenidos nos ayudan a poder conocer el margen de error, aunque este sea mínimo y nos confirma la aproximación de los resultados, obteniendo asi información realmente útil obtenida a partir de los datos que presenta la zona estudiada. \n",
    "\n",
    "\n",
    "| **YACIMIENTO** | **APROXIMACIÓN $(1000000)$** | **ERROR** | \n",
    "|------|--------|---------|\n",
    "|YACIMIENTO I|8.49125|0.00221098|\n",
    "|YACIMIENTO II|30.5214|0.00180535|\n",
    "|YACIMIENTO IIII|370.049|0.000592598|"
   ]
  },
  {
   "cell_type": "markdown",
   "metadata": {},
   "source": [
    "### CONCLUSIÓN\n",
    "\n",
    "El conocimiento y dominio de los diferentes temas aprendidos en clases nos pueden ayudar en todo tipo de escenarios posibles. Este tipo de herramientas se vuelven relevantes para la solución de conflictos presentados en diversos sectores de la industria. \n",
    "Con el uso adecuado de la información y la ayuda de herramientas como estas, la simulación y resolución de problemáticas en escenarios complicados se facilita y podemos ahorrar tiempo y generar información útil para futuros proyectos. \n",
    "\n",
    "\n",
    "Investigando más acerca de esta herramienta pudimos conocer diferentes escenarios en los que fue aplicada, por ejemplo, la simulación de la dispersión de los electrones de la bomba atómica en la segunda guerra mundial, el que esta herramienta haya sido aplicada en contextos de este impacto en nuestra sociedad nos confirma que son métodos que aportan soluciones aproximadas a una gran variedad de problemas matemáticos posibilitando la realización de experimentos con muestres de números pseudoaleatorios en una computadora. \n",
    "\n"
   ]
  },
  {
   "cell_type": "markdown",
   "metadata": {},
   "source": [
    "### BIBLIOGRAFÍA\n",
    "\n",
    "Pacheco, B. (2012). Ejercicios dirigidos y problemas resueltos de teoría general de sistemas aplicada a la Ingeniería Civil. septiembre 28, 2020, de UNAM Sitio web: http://www.ptolomeo.unam.mx:8080/xmlui/bitstream/handle/132.248.52.100/567/A4.pdf?sequence=4\n",
    "\n",
    "\n",
    "Da Silva, M. (2010). Generador de presentaciones multimedia. septiembre 29, 2020, de Slideshare Sitio web: https://es.slideshare.net/MeireComputacion/power-point-pautas-para-una-buen-trabajo\n",
    "\n",
    "\n",
    "Higueras, P. Yacimientos minerales. Noviembre 10, 2020, de blog UCLM Sitio web: https://blog.uclm.es/pablohigueras/yacimientos-minerales/#sidebar\n",
    "\n",
    "\n",
    "Da Silva, M. (2010). Generador de presentaciones multimedia. noviembre 11, 2020, de Slideshare Sitio web: https://es.slideshare.net/MeireComputacion/power-point-pautas-para-una-buen-trabajo"
   ]
  }
 ],
 "metadata": {
  "kernelspec": {
   "display_name": "Python 3",
   "language": "python",
   "name": "python3"
  },
  "language_info": {
   "codemirror_mode": {
    "name": "ipython",
    "version": 3
   },
   "file_extension": ".py",
   "mimetype": "text/x-python",
   "name": "python",
   "nbconvert_exporter": "python",
   "pygments_lexer": "ipython3",
   "version": "3.7.4"
  }
 },
 "nbformat": 4,
 "nbformat_minor": 2
}
