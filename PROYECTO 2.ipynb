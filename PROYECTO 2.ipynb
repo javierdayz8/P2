{
 "cells": [
  {
   "cell_type": "markdown",
   "metadata": {},
   "source": [
    "<img style=\"float: right; margin: 0px 0px 15px 15px;\" src=\"https://proactivo.com.pe/wp-content/uploads/2019/05/Inversi%C3%B3n-en-tecnolog%C3%ADa-minera.png\" width=\"600px\" height=\"100px\" />\n",
    "\n",
    "\n",
    "# PROYECTO II.\n",
    "## LOCALIZACIÓN DE MINAS EN UN TERRENO.\n",
    "### MÉTODO DE MONTECARLO.\n",
    "\n",
    " + FRANCISCO JAVIER DIAZ ESQUIVEL IC727603\n",
    " + ERIK DANIEL COTA VILLA IC727872"
   ]
  },
  {
   "cell_type": "markdown",
   "metadata": {},
   "source": [
    "### Modelo que representa el problema.\n",
    "\n",
    "Durante los procesos geológicos que llevan a la formación de una roca, algunos minerales pueden concentrarse selectivamente por encima de sus valores “normales” dando origen a concentraciones “anómalas”. Dándose ciertas condiciones necesarias que permitan que esta concentración se convierta en un depósito de minerales útiles, pueden convertirse en zonas de explotación económicamente rentable. \n",
    "Una empresa dedicada a la minería, adquirió un terreno con concentraciones anómalas de minerales valiosos, no obstante, no se conoce la ubicación exacta de dichos minerales. Por esto, dicha empresa desarrollo un programa basado en el método de Montecarlo, proporcionando ubicaciones aproximadas y delimitaciones de los yacimientos por medio de una ecuación. \n",
    "\n"
   ]
  },
  {
   "cell_type": "markdown",
   "metadata": {},
   "source": [
    "El terreno cuenta con una extensión de $1464 m^2$, y tiene una forma irregular como se puede observar:"
   ]
  },
  {
   "cell_type": "markdown",
   "metadata": {},
   "source": [
    "<img style=\"float: center; margin: 0px 0px 15px 15px;\" src=\"https://is2.4chan.org/n/1605070798525.png\" width=\"600px\" height=\"1000px\" >\n"
   ]
  },
  {
   "cell_type": "markdown",
   "metadata": {},
   "source": [
    "**El sensor desarrollado solo permite investigar superficies rectagulares.** \n",
    "\n",
    "Por lo que:\n",
    "\n",
    "* Primero **seccionamos** el terreno rectangularmente en tres partes (1,2,3) para poder utilizar el sensor.\n",
    "\n",
    "<img style=\"float: center; margin: 0px 0px 15px 15px;\" src=\"https://i.4cdn.org/n/1605071198577.png\" width=\"600px\" height=\"1000px\" >\n",
    "\n",
    "* Posteriormente definimos la función utilizanda en el **Método de Montecarlo** , donde se le asignaron valores a las variables utilizadas:\n",
    "\n",
    "\n",
    "1. $B$: Base del rectángulo. \n",
    "1. $H$: Altura del rectángulo. \n",
    "1. $AR$: Área del rectángulo. \n",
    "1. $x$: Coordenadas en x. \n",
    "1. $y$: Coordenadas en y.\n",
    "1. $b$: Función Bernoulli.\n",
    "1. $th$ y $erel$: Variables númericas.\n",
    "\n",
    "\n",
    "* Definimos también las minas con sus respectivas ecuaciones obtenidas en la prueba geológica; (con variables x y):\n",
    "mina1: 3(2x \n",
    "\n",
    "\n"
   ]
  },
  {
   "cell_type": "code",
   "execution_count": 2,
   "metadata": {},
   "outputs": [],
   "source": [
    "# Importamos líbrerias \n",
    "import numpy as np\n",
    "import matplotlib.pyplot as plt\n",
    "import pandas as pd\n",
    "%matplotlib inline"
   ]
  },
  {
   "cell_type": "code",
   "execution_count": null,
   "metadata": {},
   "outputs": [],
   "source": [
    "# Definimos la funcion montecarlo\n",
    "def montecarlo(xmin,xmax,ymin,ymax,N,fBernoulli):\n",
    "    base=xmax-xmin\n",
    "    altura=ymax-xmin\n",
    "    AR=base*altura\n",
    "    x=np.random.uniform(xmin,xmax,N)\n",
    "    y=np.random.uniform(ymin,ymax,N)\n",
    "    b=fBernoulli(x,y)\n",
    "    th=np.mean(b)\n",
    "    erel=np.sqrt((1-th)/th)/np.sqrt(N)\n",
    "    return AR*th,erel"
   ]
  },
  {
   "cell_type": "code",
   "execution_count": null,
   "metadata": {},
   "outputs": [],
   "source": [
    "# Definimos cada mina/yacimiento\n",
    "def mina1(x,y):\n",
    "    return 3*(2*x-1)**4+8*(5*y-1)**8<1+2*(6*y-1)**3*(5*x-2)**2\n",
    "                    \n",
    "def mina2(x,y):\n",
    "    return 4*(3*x-1)**4+8*(y-1)**8<1+2*(3*y-1)**3*(2*x-2)**2\n",
    "\n",
    "def mina3(x,y):\n",
    "    return 5*x**2+3*y**2<600-x**2"
   ]
  },
  {
   "cell_type": "code",
   "execution_count": null,
   "metadata": {},
   "outputs": [],
   "source": [
    "# Graficamos el primer yacimiento\n",
    "x=np.random.uniform(-6,6,400)\n",
    "y=np.random.uniform(-2,2,400)\n",
    "X,Y=np.meshgrid(x,y)\n",
    "plt.scatter(X,Y,c=~mina1(X,Y), cmap=\"gray\", s=.5)\n",
    "\n",
    "plt.grid()"
   ]
  },
  {
   "cell_type": "code",
   "execution_count": null,
   "metadata": {},
   "outputs": [],
   "source": [
    "# Obtenemos error y aprox. del primer yacimiento\n",
    "N=np.logspace(6,20,1)\n",
    "N=N.astype(int)\n",
    "tabla=pd.DataFrame(index=N, columns=[\"Aproximacion Yacimiento 1\",\"Error\"])\n",
    "for i in N:\n",
    "    tabla.loc[i,:]=montecarlo(-4,6,0,1,i,mina1)\n",
    "tabla"
   ]
  },
  {
   "cell_type": "code",
   "execution_count": null,
   "metadata": {},
   "outputs": [],
   "source": [
    "# Graficamos el segundo yacimiento\n",
    "x=np.random.uniform(-9,9,400)\n",
    "y=np.random.uniform(-6,6,400)\n",
    "X,Y=np.meshgrid(x,y)\n",
    "plt.scatter(X,Y,c=~mina2(X,Y), cmap=\"gray\", s=.5)\n",
    "\n",
    "plt.grid()"
   ]
  },
  {
   "cell_type": "code",
   "execution_count": null,
   "metadata": {},
   "outputs": [],
   "source": [
    "# Obtenemos error y aprox. del segudno yacimiento\n",
    "N=np.logspace(6,20,1)\n",
    "N=N.astype(int)\n",
    "tabla=pd.DataFrame(index=N, columns=[\"Aproximacion Yacimiento 2\",\"Error\"])\n",
    "for i in N:\n",
    "    tabla.loc[i,:]=montecarlo(-7,3,0,6,i,mina2)\n",
    "tabla"
   ]
  },
  {
   "cell_type": "code",
   "execution_count": null,
   "metadata": {},
   "outputs": [],
   "source": [
    "# Graficamos el tercer yacimiento\n",
    "x=np.random.uniform(-20,20,400)\n",
    "y=np.random.uniform(-15,15,400)\n",
    "X,Y=np.meshgrid(x,y)\n",
    "plt.scatter(X,Y,c=~mina3(X,Y), cmap=\"gray\", s=.5)\n",
    "\n",
    "plt.grid()"
   ]
  },
  {
   "cell_type": "code",
   "execution_count": null,
   "metadata": {},
   "outputs": [],
   "source": [
    "# Obtenemos error y aprox. del tercer yacimiento\n",
    "N=np.logspace(6,20,1)\n",
    "N=N.astype(int)\n",
    "tabla=pd.DataFrame(index=N, columns=[\"Aproximacion Yacimiento 3\",\"Error\"])\n",
    "for i in N:\n",
    "    tabla.loc[i,:]=montecarlo(-10,10,-15,15,i,mina3)\n",
    "tabla"
   ]
  },
  {
   "cell_type": "markdown",
   "metadata": {},
   "source": [
    "#### REPRESENTACIÓN DE RESULTADOS:"
   ]
  },
  {
   "cell_type": "code",
   "execution_count": null,
   "metadata": {},
   "outputs": [],
   "source": []
  },
  {
   "cell_type": "markdown",
   "metadata": {},
   "source": [
    "### CONCLUSIÓN\n",
    "\n",
    "El conocimiento y dominio de los diferentes temas aprendidos en clases nos pueden ayudar en todo tipo de escenarios posibles. Este tipo de herramientas se vuelven relevantes para la solución de conflictos presentados en diversos sectores de la industria. \n",
    "Con el uso adecuado de la información y la ayuda de herramientas como estas, la simulación y resolución de problemáticas en escenarios complicados se facilita y podemos ahorrar tiempo y generar información útil para futuros proyectos. \n",
    "\n",
    "\n",
    "Investigando más acerca de esta herramienta pudimos conocer diferentes escenarios en los que fue aplicada, por ejemplo, la simulación de la dispersión de los electrones de la bomba atómica en la segunda guerra mundial, el que esta herramienta haya sido aplicada en contextos de este impacto en nuestra sociedad nos confirma que son métodos que aportan soluciones aproximadas a una gran variedad de problemas matemáticos posibilitando la realización de experimentos con muestres de números pseudoaleatorios en una computadora. \n",
    "\n"
   ]
  },
  {
   "cell_type": "markdown",
   "metadata": {},
   "source": [
    "### BIBLIOGRAFÍA\n",
    "\n",
    "Pacheco, B. (2012). Ejercicios dirigidos y problemas resueltos de teoría general de sistemas aplicada a la Ingeniería Civil. septiembre 28, 2020, de UNAM Sitio web: http://www.ptolomeo.unam.mx:8080/xmlui/bitstream/handle/132.248.52.100/567/A4.pdf?sequence=4\n",
    "\n",
    "\n",
    "Da Silva, M. (2010). Generador de presentaciones multimedia. septiembre 29, 2020, de Slideshare Sitio web: https://es.slideshare.net/MeireComputacion/power-point-pautas-para-una-buen-trabajo\n",
    "\n",
    "\n",
    "Crescencio Cabrera Toledo, Delgado Vargas Carlos, et.al. Seminario de Yacimientos Minerales. Tesis Profesional, 1984. IPN-Ciencias de la Tierra.\n",
    "\n",
    "\n",
    "Victor Manuel López Aburto. Manual para la Selección de Métodos de Explotación de Minas. Facultad de Ingeniería, UNAM. 1994"
   ]
  }
 ],
 "metadata": {
  "kernelspec": {
   "display_name": "Python 3",
   "language": "python",
   "name": "python3"
  },
  "language_info": {
   "codemirror_mode": {
    "name": "ipython",
    "version": 3
   },
   "file_extension": ".py",
   "mimetype": "text/x-python",
   "name": "python",
   "nbconvert_exporter": "python",
   "pygments_lexer": "ipython3",
   "version": "3.8.3"
  }
 },
 "nbformat": 4,
 "nbformat_minor": 2
}
